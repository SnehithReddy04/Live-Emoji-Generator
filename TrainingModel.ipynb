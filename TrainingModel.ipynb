{
 "cells": [
  {
   "cell_type": "code",
   "execution_count": 5,
   "metadata": {},
   "outputs": [],
   "source": [
    "import numpy as np\n",
    "\n",
    "data=np.load('./data.npy')\n",
    "target=np.load('./target.npy')"
   ]
  },
  {
   "cell_type": "code",
   "execution_count": 6,
   "metadata": {},
   "outputs": [],
   "source": [
    "from keras.models import Sequential\n",
    "from keras.layers import Dense,Activation,Flatten,Dropout\n",
    "from keras.layers import Conv2D,MaxPooling2D\n",
    "from keras.callbacks import ModelCheckpoint"
   ]
  },
  {
   "cell_type": "code",
   "execution_count": 7,
   "metadata": {},
   "outputs": [],
   "source": [
    "model=Sequential()\n",
    "\n",
    "model.add(Conv2D(200,(2,2),input_shape=data.shape[1:]))\n",
    "model.add(Activation('relu'))\n",
    "model.add(MaxPooling2D(pool_size=(2,2)))\n",
    "\n",
    "model.add(Conv2D(100,(2,2)))\n",
    "model.add(Activation('relu'))\n",
    "model.add(MaxPooling2D(pool_size=(2,2)))\n",
    "\n",
    "model.add(Flatten())\n",
    "model.add(Dropout(0.5))\n",
    "model.add(Dense(50,activation='relu'))\n",
    "model.add(Dense(5,activation='softmax'))\n",
    "\n",
    "model.compile(loss='categorical_crossentropy', optimizer='adam', metrics=['accuracy'])"
   ]
  },
  {
   "cell_type": "code",
   "execution_count": 8,
   "metadata": {},
   "outputs": [],
   "source": [
    "from sklearn.model_selection import train_test_split\n",
    "\n",
    "train_data,test_data,train_target,test_target=train_test_split(data, target, test_size=0.1)"
   ]
  },
  {
   "cell_type": "code",
   "execution_count": 9,
   "metadata": {},
   "outputs": [
    {
     "name": "stdout",
     "output_type": "stream",
     "text": [
      "(810, 100, 100, 1)\n",
      "(810, 5)\n"
     ]
    }
   ],
   "source": [
    "print(train_data.shape)\n",
    "print(train_target.shape)\n"
   ]
  },
  {
   "cell_type": "code",
   "execution_count": 10,
   "metadata": {},
   "outputs": [
    {
     "name": "stdout",
     "output_type": "stream",
     "text": [
      "Epoch 1/20\n",
      "21/21 [==============================] - 19s 878ms/step - loss: 1.8190 - accuracy: 0.2652 - val_loss: 1.5915 - val_accuracy: 0.1420\n",
      "INFO:tensorflow:Assets written to: model-001.model\\assets\n",
      "Epoch 2/20\n",
      "21/21 [==============================] - 18s 859ms/step - loss: 1.5232 - accuracy: 0.3805 - val_loss: 1.1990 - val_accuracy: 0.5864\n",
      "INFO:tensorflow:Assets written to: model-002.model\\assets\n",
      "Epoch 3/20\n",
      "21/21 [==============================] - 19s 919ms/step - loss: 1.0024 - accuracy: 0.6277 - val_loss: 0.4576 - val_accuracy: 1.0000\n",
      "INFO:tensorflow:Assets written to: model-003.model\\assets\n",
      "Epoch 4/20\n",
      "21/21 [==============================] - 18s 872ms/step - loss: 0.4100 - accuracy: 0.9348 - val_loss: 0.0918 - val_accuracy: 1.0000\n",
      "INFO:tensorflow:Assets written to: model-004.model\\assets\n",
      "Epoch 5/20\n",
      "21/21 [==============================] - 19s 886ms/step - loss: 0.1311 - accuracy: 0.9736 - val_loss: 0.0253 - val_accuracy: 1.0000\n",
      "INFO:tensorflow:Assets written to: model-005.model\\assets\n",
      "Epoch 6/20\n",
      "21/21 [==============================] - 19s 907ms/step - loss: 0.0572 - accuracy: 0.9931 - val_loss: 0.0266 - val_accuracy: 1.0000\n",
      "Epoch 7/20\n",
      "21/21 [==============================] - 20s 934ms/step - loss: 0.0471 - accuracy: 0.9912 - val_loss: 0.0106 - val_accuracy: 1.0000\n",
      "INFO:tensorflow:Assets written to: model-007.model\\assets\n",
      "Epoch 8/20\n",
      "21/21 [==============================] - 19s 924ms/step - loss: 0.0275 - accuracy: 0.9952 - val_loss: 0.0049 - val_accuracy: 1.0000\n",
      "INFO:tensorflow:Assets written to: model-008.model\\assets\n",
      "Epoch 9/20\n",
      "21/21 [==============================] - 20s 950ms/step - loss: 0.0163 - accuracy: 0.9962 - val_loss: 0.0036 - val_accuracy: 1.0000\n",
      "INFO:tensorflow:Assets written to: model-009.model\\assets\n",
      "Epoch 10/20\n",
      "21/21 [==============================] - 19s 911ms/step - loss: 0.0181 - accuracy: 0.9921 - val_loss: 0.0019 - val_accuracy: 1.0000\n",
      "INFO:tensorflow:Assets written to: model-010.model\\assets\n",
      "Epoch 11/20\n",
      "21/21 [==============================] - 19s 913ms/step - loss: 0.0064 - accuracy: 1.0000 - val_loss: 0.0018 - val_accuracy: 1.0000\n",
      "INFO:tensorflow:Assets written to: model-011.model\\assets\n",
      "Epoch 12/20\n",
      "21/21 [==============================] - 19s 913ms/step - loss: 0.0129 - accuracy: 0.9989 - val_loss: 0.0051 - val_accuracy: 1.0000\n",
      "Epoch 13/20\n",
      "21/21 [==============================] - 19s 915ms/step - loss: 0.0144 - accuracy: 0.9968 - val_loss: 0.0017 - val_accuracy: 1.0000\n",
      "INFO:tensorflow:Assets written to: model-013.model\\assets\n",
      "Epoch 14/20\n",
      "21/21 [==============================] - 20s 937ms/step - loss: 0.0061 - accuracy: 0.9974 - val_loss: 9.1854e-04 - val_accuracy: 1.0000\n",
      "INFO:tensorflow:Assets written to: model-014.model\\assets\n",
      "Epoch 15/20\n",
      "21/21 [==============================] - 20s 941ms/step - loss: 0.0111 - accuracy: 0.9962 - val_loss: 8.0432e-04 - val_accuracy: 1.0000\n",
      "INFO:tensorflow:Assets written to: model-015.model\\assets\n",
      "Epoch 16/20\n",
      "21/21 [==============================] - 20s 935ms/step - loss: 0.0057 - accuracy: 0.9980 - val_loss: 0.0015 - val_accuracy: 1.0000\n",
      "Epoch 17/20\n",
      "21/21 [==============================] - 20s 931ms/step - loss: 0.0298 - accuracy: 0.9914 - val_loss: 0.0027 - val_accuracy: 1.0000\n",
      "Epoch 18/20\n",
      "21/21 [==============================] - 20s 973ms/step - loss: 0.0049 - accuracy: 1.0000 - val_loss: 5.8204e-04 - val_accuracy: 1.0000\n",
      "INFO:tensorflow:Assets written to: model-018.model\\assets\n",
      "Epoch 19/20\n",
      "21/21 [==============================] - 20s 939ms/step - loss: 0.0054 - accuracy: 0.9974 - val_loss: 4.5831e-04 - val_accuracy: 1.0000\n",
      "INFO:tensorflow:Assets written to: model-019.model\\assets\n",
      "Epoch 20/20\n",
      "21/21 [==============================] - 20s 943ms/step - loss: 0.0021 - accuracy: 1.0000 - val_loss: 3.1593e-04 - val_accuracy: 1.0000\n",
      "INFO:tensorflow:Assets written to: model-020.model\\assets\n"
     ]
    }
   ],
   "source": [
    "checkpoint=ModelCheckpoint('model-{epoch:03d}.model', monitor='val_loss', verbose=0, save_best_only=True, mode='auto')\n",
    "history=model.fit(train_data, train_target, epochs=20, callbacks=[checkpoint], validation_split=0.2)"
   ]
  },
  {
   "cell_type": "code",
   "execution_count": null,
   "metadata": {},
   "outputs": [],
   "source": []
  },
  {
   "cell_type": "code",
   "execution_count": null,
   "metadata": {},
   "outputs": [],
   "source": []
  }
 ],
 "metadata": {
  "kernelspec": {
   "display_name": "Python 3",
   "language": "python",
   "name": "python3"
  },
  "language_info": {
   "codemirror_mode": {
    "name": "ipython",
    "version": 3
   },
   "file_extension": ".py",
   "mimetype": "text/x-python",
   "name": "python",
   "nbconvert_exporter": "python",
   "pygments_lexer": "ipython3",
   "version": "3.7.6"
  }
 },
 "nbformat": 4,
 "nbformat_minor": 4
}
